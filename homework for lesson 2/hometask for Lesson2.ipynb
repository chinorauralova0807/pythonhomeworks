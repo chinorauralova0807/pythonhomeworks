{
 "cells": [
  {
   "cell_type": "markdown",
   "metadata": {},
   "source": [
    "HOMETASK 1"
   ]
  },
  {
   "cell_type": "markdown",
   "metadata": {},
   "source": [
    "\n",
    "Test 1\n",
    "\n"
   ]
  },
  {
   "cell_type": "markdown",
   "metadata": {},
   "source": [
    "Q1: What's string in Python\n",
    "Answer:A sequence of characters enclosed within single quote(') or double quotes(\")"
   ]
  },
  {
   "cell_type": "markdown",
   "metadata": {},
   "source": [
    "Q2:Is there any difference between 'a' or \"a\"?\n",
    "No there isn't"
   ]
  },
  {
   "cell_type": "markdown",
   "metadata": {},
   "source": [
    "Q3:Is there any difference between 1 and '1'?\n",
    "Answer:yes, 1 is an integar\n",
    "'1' is a string\n"
   ]
  },
  {
   "cell_type": "markdown",
   "metadata": {},
   "source": [
    "Q4:Python treats single quotes same as double quotes(T/F)\n",
    "Answer:True"
   ]
  },
  {
   "cell_type": "markdown",
   "metadata": {},
   "source": [
    "Q5:A string with zero character is called________string\n",
    "Answer: Empty string"
   ]
  },
  {
   "cell_type": "markdown",
   "metadata": {},
   "source": [
    "Q6:Python does not support a character type.(T/F)\n",
    "Answer: True, there is no distinct char type"
   ]
  },
  {
   "cell_type": "markdown",
   "metadata": {},
   "source": [
    "Q7:'write a code to store following string in a variable named 'str'.  This is Amit's Blog"
   ]
  },
  {
   "cell_type": "code",
   "execution_count": 4,
   "metadata": {},
   "outputs": [],
   "source": [
    "str='This is Amit\\'s Blog'"
   ]
  },
  {
   "cell_type": "markdown",
   "metadata": {},
   "source": [
    "Q8:Write the output of the following code:\n",
    "str1:\"Welcome to my blog\"\n",
    "str2:\"Welcome to my \\n Blog\"\n",
    "print(str1)\n",
    "print(str2)\n",
    "\n",
    "ANSWER:Welcome to my blog\n",
    "Welcome to my\n",
    "Blog"
   ]
  },
  {
   "cell_type": "markdown",
   "metadata": {},
   "source": [
    "Q9:Write the output of the following.\n",
    "str1=\"Welcome \\tto my Blog\n",
    "str2:\"Welcome to\\n my \\tBlog\n",
    "print(str1)\n",
    "print(str2)\n",
    "\n",
    "\n",
    "ANSWER: \n",
    "Welcome    to my Blog\n",
    "Welcome to \n",
    "my     Blog"
   ]
  },
  {
   "cell_type": "markdown",
   "metadata": {},
   "source": [
    "Q10:write the output of the following\n",
    "str1\"\"\"Welcome to my \n",
    "blog. \n",
    "This is for \n",
    "Class X \"\"\"\n",
    "print(str1)\n",
    "\n",
    "ANSWER:\n",
    "Welcome to my\n",
    "blog.\n",
    "This is for\n",
    "Class X \n"
   ]
  },
  {
   "cell_type": "markdown",
   "metadata": {},
   "source": [
    "Test 2"
   ]
  },
  {
   "cell_type": "markdown",
   "metadata": {},
   "source": [
    "Q1: Write the output of the following code:\n",
    "a)  str=\"hello\"\n",
    "print(str[:3])\n",
    "\n",
    "Answer: hel\n",
    "\n"
   ]
  },
  {
   "cell_type": "markdown",
   "metadata": {},
   "source": [
    "b)str='My Blog'\n",
    "a=''\n",
    "for i in range(len(str)):\n",
    "a+=str[i]\n",
    "print(a)\n",
    "\n",
    "Answer:My Blog"
   ]
  },
  {
   "cell_type": "markdown",
   "metadata": {},
   "source": [
    "c)str='MyBlog'\n",
    "a=''\n",
    "for i in range(len(str)):\n",
    "print(i*str[i])\n",
    "\n",
    "Answer: \n",
    "y\n",
    "BB\n",
    "llll\n",
    "OOOOO\n",
    "gggggg"
   ]
  },
  {
   "cell_type": "markdown",
   "metadata": {},
   "source": [
    "d)s='My'\n",
    "s1='Blog'\n",
    "s2=s[:1]+s1[len(s1)-1:]\n",
    "print(s2)\n",
    "\n",
    "Answer: Mg"
   ]
  },
  {
   "cell_type": "markdown",
   "metadata": {},
   "source": [
    "e)print(\"My\"+'Blog'*2)\n",
    "\n",
    "ANSWER: MyBlogBlog"
   ]
  },
  {
   "cell_type": "markdown",
   "metadata": {},
   "source": [
    "f)print(\"My\"*3+\"Blog\"+'7')\n",
    "\n",
    "ANSWER:MyMyMyBlog7"
   ]
  },
  {
   "cell_type": "markdown",
   "metadata": {},
   "source": [
    "g)for i in range(2,7,2):\n",
    "print(i*'2')\n",
    "\n",
    "ANSWER:22\n",
    "2222\n",
    "222222\n"
   ]
  },
  {
   "cell_type": "markdown",
   "metadata": {},
   "source": [
    "h)for i in range(3,12,2):\n",
    "print(\"a\".upper())\n",
    "\n",
    "ANSWER:A\n",
    "A\n",
    "A\n",
    "A\n",
    "A"
   ]
  },
  {
   "cell_type": "markdown",
   "metadata": {},
   "source": [
    "i)for i in range(3,12,13):\n",
    "print(\"a\".upper())\n",
    "\n",
    "ANSWER:A"
   ]
  },
  {
   "cell_type": "markdown",
   "metadata": {},
   "source": [
    "j)s='Welcome to My Site https://csiplearninghub.com'\n",
    "print(s.find('come'))\n",
    "print(s.find('o'))\n",
    "print(s.find('o',10,20))\n",
    "print(s.find('o',5,10))\n",
    "\n",
    "ANSWER:\n",
    "3\n",
    "1\n",
    "11      \n",
    "8 "
   ]
  },
  {
   "cell_type": "markdown",
   "metadata": {},
   "source": [
    "TEST 3"
   ]
  },
  {
   "cell_type": "code",
   "execution_count": null,
   "metadata": {},
   "outputs": [],
   "source": [
    "str1=''"
   ]
  },
  {
   "cell_type": "markdown",
   "metadata": {},
   "source": [
    "what does it mean by traversing a string?\n",
    "ANSWER:\n",
    "it means accessing each character in the string one by one in order, typically using a loop"
   ]
  },
  {
   "cell_type": "markdown",
   "metadata": {},
   "source": [
    "what's the index value of first element of a string?\n",
    "\n",
    "ANSWER:0"
   ]
  },
  {
   "cell_type": "markdown",
   "metadata": {},
   "source": [
    "What's the index value of last element of a string?\n",
    "\n",
    "ANSWER: -1"
   ]
  },
  {
   "cell_type": "markdown",
   "metadata": {},
   "source": [
    "If the length of the string is 10 then what would be the  positive index value of last element?\n",
    "\n",
    "ANSWER:9"
   ]
  },
  {
   "cell_type": "markdown",
   "metadata": {},
   "source": [
    "If the length of the string is 9, what would be the  index value of middle element?\n",
    "\n",
    "ANSWER:4"
   ]
  },
  {
   "cell_type": "markdown",
   "metadata": {},
   "source": [
    "index value of a string can be in float.(T/F)\n",
    "\n",
    "ANSWER: FALSE (it must be integer)"
   ]
  },
  {
   "cell_type": "markdown",
   "metadata": {},
   "source": [
    "what type of error is returned by following statement , if the length of string 'str1'is 10\n",
    "print(str1[13])\n",
    "\n",
    "ANSWER:INDEX ERROR"
   ]
  },
  {
   "cell_type": "code",
   "execution_count": null,
   "metadata": {},
   "outputs": [],
   "source": [
    "str1=\"Hello World\""
   ]
  },
  {
   "cell_type": "markdown",
   "metadata": {},
   "source": [
    "                          HOMETASK 2.1"
   ]
  },
  {
   "cell_type": "code",
   "execution_count": 6,
   "metadata": {},
   "outputs": [
    {
     "name": "stdout",
     "output_type": "stream",
     "text": [
      "Your name in reverse order is: Chinora Uralova\n"
     ]
    }
   ],
   "source": [
    "full_name=input(\"Please enter your full name: \")\n",
    "name_parts = full_name.split()\n",
    "reversed_name= \" \".join(name_parts[::-1])\n",
    "print(f\"Your name in reverse order is: {reversed_name}\")"
   ]
  },
  {
   "cell_type": "markdown",
   "metadata": {},
   "source": [
    "                          HOMETASK 2.2"
   ]
  },
  {
   "cell_type": "code",
   "execution_count": 7,
   "metadata": {},
   "outputs": [
    {
     "name": "stdout",
     "output_type": "stream",
     "text": [
      "Your first name is: Chinora\n"
     ]
    }
   ],
   "source": [
    "if len(full_name.split()) >= 2:\n",
    "    first_name = full_name.split()[1] \n",
    "    print(f\"Your first name is: {first_name}\")\n",
    "else:\n",
    "    print(\"Please enter both your last name and first name.\")"
   ]
  }
 ],
 "metadata": {
  "kernelspec": {
   "display_name": "Python 3",
   "language": "python",
   "name": "python3"
  },
  "language_info": {
   "codemirror_mode": {
    "name": "ipython",
    "version": 3
   },
   "file_extension": ".py",
   "mimetype": "text/x-python",
   "name": "python",
   "nbconvert_exporter": "python",
   "pygments_lexer": "ipython3",
   "version": "3.12.8"
  }
 },
 "nbformat": 4,
 "nbformat_minor": 2
}
