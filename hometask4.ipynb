{
 "cells": [
  {
   "cell_type": "markdown",
   "metadata": {},
   "source": [
    "1)create a list named named food with two elements ,\"rice\" and \"beans\"."
   ]
  },
  {
   "cell_type": "code",
   "execution_count": 1,
   "metadata": {},
   "outputs": [],
   "source": [
    "food =[\"rice\", \"beans\"]"
   ]
  },
  {
   "cell_type": "markdown",
   "metadata": {},
   "source": [
    "2)Append the string \"broccoli\" to food using.append()."
   ]
  },
  {
   "cell_type": "code",
   "execution_count": 2,
   "metadata": {},
   "outputs": [
    {
     "name": "stdout",
     "output_type": "stream",
     "text": [
      "['rice', 'beans', 'Broccoli']\n"
     ]
    }
   ],
   "source": [
    "food.append(\"Broccoli\")\n",
    "print (food)"
   ]
  },
  {
   "cell_type": "markdown",
   "metadata": {},
   "source": [
    "3) Add the strings \"bread\" and \"pizza\" to food.extend()."
   ]
  },
  {
   "cell_type": "code",
   "execution_count": 3,
   "metadata": {},
   "outputs": [
    {
     "name": "stdout",
     "output_type": "stream",
     "text": [
      "['rice', 'beans', 'Broccoli', 'bread', 'pizza']\n"
     ]
    }
   ],
   "source": [
    "food.extend([\"bread\", \"pizza\"])\n",
    "print (food)"
   ]
  },
  {
   "cell_type": "markdown",
   "metadata": {},
   "source": [
    "4)Print the first two items in the food using print() and slice notation"
   ]
  },
  {
   "cell_type": "code",
   "execution_count": 4,
   "metadata": {},
   "outputs": [
    {
     "name": "stdout",
     "output_type": "stream",
     "text": [
      "['rice', 'beans']\n"
     ]
    }
   ],
   "source": [
    "print(food[:2])"
   ]
  },
  {
   "cell_type": "markdown",
   "metadata": {},
   "source": [
    "5)Print the last item if food using print() and index notation."
   ]
  },
  {
   "cell_type": "code",
   "execution_count": 5,
   "metadata": {},
   "outputs": [
    {
     "name": "stdout",
     "output_type": "stream",
     "text": [
      "pizza\n"
     ]
    }
   ],
   "source": [
    "print(food[-1])"
   ]
  },
  {
   "cell_type": "markdown",
   "metadata": {},
   "source": [
    "6)Create a list called breakfast from the string \"eggs,fruit,orange juice\" using the string.split() method"
   ]
  },
  {
   "cell_type": "code",
   "execution_count": 6,
   "metadata": {},
   "outputs": [
    {
     "name": "stdout",
     "output_type": "stream",
     "text": [
      "['eggs', 'fruit', 'orange juice']\n"
     ]
    }
   ],
   "source": [
    "breakfast =\"eggs, fruit, orange juice\".split(\", \")\n",
    "print (breakfast)"
   ]
  },
  {
   "cell_type": "markdown",
   "metadata": {},
   "source": [
    "7)Verify that breakfast has three items using len()."
   ]
  },
  {
   "cell_type": "code",
   "execution_count": 7,
   "metadata": {},
   "outputs": [
    {
     "name": "stdout",
     "output_type": "stream",
     "text": [
      "3\n"
     ]
    }
   ],
   "source": [
    "print(len(breakfast))"
   ]
  },
  {
   "cell_type": "markdown",
   "metadata": {},
   "source": [
    "8)Create a new list called lengths using a list comprehension that contains the length of each string in the breakfast list"
   ]
  },
  {
   "cell_type": "code",
   "execution_count": 8,
   "metadata": {},
   "outputs": [
    {
     "name": "stdout",
     "output_type": "stream",
     "text": [
      "[4, 5, 12]\n"
     ]
    }
   ],
   "source": [
    "lengths = [len(item) for item in breakfast]\n",
    "print (lengths)"
   ]
  }
 ],
 "metadata": {
  "kernelspec": {
   "display_name": "Python 3",
   "language": "python",
   "name": "python3"
  },
  "language_info": {
   "codemirror_mode": {
    "name": "ipython",
    "version": 3
   },
   "file_extension": ".py",
   "mimetype": "text/x-python",
   "name": "python",
   "nbconvert_exporter": "python",
   "pygments_lexer": "ipython3",
   "version": "3.12.8"
  }
 },
 "nbformat": 4,
 "nbformat_minor": 2
}
