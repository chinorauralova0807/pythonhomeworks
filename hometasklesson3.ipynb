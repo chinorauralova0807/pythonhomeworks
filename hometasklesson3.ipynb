{
 "cells": [
  {
   "cell_type": "code",
   "execution_count": 2,
   "metadata": {},
   "outputs": [
    {
     "name": "stdout",
     "output_type": "stream",
     "text": [
      "Weird\n"
     ]
    }
   ],
   "source": [
    "n = float(input('Please enter your number: '))\n",
    "if n % 2 !=0:\n",
    "    print(\"Weird\")\n",
    "\n",
    "elif n % 2 == 0:\n",
    "   if 2<=n <=5:\n",
    "      print(f'{n} is Not Weird')\n",
    "   elif 6<=n <=20:\n",
    "      print(f'{n} is Weird')\n",
    "   elif n>20:\n",
    "      print(f'{n} is Not Weird')"
   ]
  }
 ],
 "metadata": {
  "kernelspec": {
   "display_name": "Python 3",
   "language": "python",
   "name": "python3"
  },
  "language_info": {
   "codemirror_mode": {
    "name": "ipython",
    "version": 3
   },
   "file_extension": ".py",
   "mimetype": "text/x-python",
   "name": "python",
   "nbconvert_exporter": "python",
   "pygments_lexer": "ipython3",
   "version": "3.12.8"
  }
 },
 "nbformat": 4,
 "nbformat_minor": 2
}
